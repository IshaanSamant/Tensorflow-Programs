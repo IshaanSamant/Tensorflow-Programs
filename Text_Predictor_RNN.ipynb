{
  "nbformat": 4,
  "nbformat_minor": 0,
  "metadata": {
    "colab": {
      "name": "Untitled7.ipynb",
      "provenance": []
    },
    "kernelspec": {
      "name": "python3",
      "display_name": "Python 3"
    },
    "accelerator": "GPU"
  },
  "cells": [
    {
      "cell_type": "code",
      "metadata": {
        "id": "o63rnjGWV6ae",
        "colab_type": "code",
        "colab": {
          "base_uri": "https://localhost:8080/",
          "height": 34
        },
        "outputId": "ccb6da9e-99da-41d6-defe-f66cc412b6a5"
      },
      "source": [
        "from keras.preprocessing import sequence\n",
        "import keras\n",
        "import tensorflow as tf\n",
        "import os\n",
        "import numpy as np"
      ],
      "execution_count": 1,
      "outputs": [
        {
          "output_type": "stream",
          "text": [
            "Using TensorFlow backend.\n"
          ],
          "name": "stderr"
        }
      ]
    },
    {
      "cell_type": "code",
      "metadata": {
        "id": "DnBnwIUOWSBW",
        "colab_type": "code",
        "colab": {
          "base_uri": "https://localhost:8080/",
          "height": 51
        },
        "outputId": "858c0982-a045-4996-cdd2-6c4ecb07620f"
      },
      "source": [
        "path_to_file = tf.keras.utils.get_file('shakespeare.txt', 'https://storage.googleapis.com/download.tensorflow.org/data/shakespeare.txt')"
      ],
      "execution_count": 2,
      "outputs": [
        {
          "output_type": "stream",
          "text": [
            "Downloading data from https://storage.googleapis.com/download.tensorflow.org/data/shakespeare.txt\n",
            "1122304/1115394 [==============================] - 0s 0us/step\n"
          ],
          "name": "stdout"
        }
      ]
    },
    {
      "cell_type": "code",
      "metadata": {
        "id": "AmxvQFkEXZUF",
        "colab_type": "code",
        "colab": {
          "base_uri": "https://localhost:8080/",
          "height": 34
        },
        "outputId": "e34f1a19-138c-4b42-828d-0fe6d589f5a7"
      },
      "source": [
        "# Read, then decode for py2 compat.\n",
        "text = open(path_to_file, 'rb').read().decode(encoding='utf-8')\n",
        "# length of text is the number of characters in it\n",
        "print ('Length of text: {} characters'.format(len(text)))"
      ],
      "execution_count": 3,
      "outputs": [
        {
          "output_type": "stream",
          "text": [
            "Length of text: 1115394 characters\n"
          ],
          "name": "stdout"
        }
      ]
    },
    {
      "cell_type": "code",
      "metadata": {
        "id": "BAq9QhuqXkc-",
        "colab_type": "code",
        "colab": {}
      },
      "source": [
        "vocab = sorted(set(text))\n",
        "# Creating a mapping from unique characters to indices\n",
        "char2idx = {u:i for i, u in enumerate(vocab)}\n",
        "idx2char = np.array(vocab)\n",
        "\n",
        "def text_to_int(text):\n",
        "  return np.array([char2idx[c] for c in text])\n",
        "\n",
        "text_as_int = text_to_int(text)"
      ],
      "execution_count": 4,
      "outputs": []
    },
    {
      "cell_type": "code",
      "metadata": {
        "id": "lR-3ifhPZAw_",
        "colab_type": "code",
        "colab": {
          "base_uri": "https://localhost:8080/",
          "height": 51
        },
        "outputId": "d7f10a81-2319-4c80-ce27-b42572006158"
      },
      "source": [
        "# lets look at how part of our text is encoded\n",
        "print(\"Text:\", text[:13])\n",
        "print(\"Encoded:\", text_to_int(text[:13]))"
      ],
      "execution_count": 5,
      "outputs": [
        {
          "output_type": "stream",
          "text": [
            "Text: First Citizen\n",
            "Encoded: [18 47 56 57 58  1 15 47 58 47 64 43 52]\n"
          ],
          "name": "stdout"
        }
      ]
    },
    {
      "cell_type": "code",
      "metadata": {
        "id": "-kmwxLFsZGb2",
        "colab_type": "code",
        "colab": {
          "base_uri": "https://localhost:8080/",
          "height": 34
        },
        "outputId": "ea5ae746-44c7-43b9-fa9e-e0493dc12e4a"
      },
      "source": [
        "def int_to_text(ints):\n",
        "  try:\n",
        "    ints = ints.numpy()\n",
        "  except:\n",
        "    pass\n",
        "  return ''.join(idx2char[ints])\n",
        "\n",
        "print(int_to_text(text_as_int[:13]))"
      ],
      "execution_count": 6,
      "outputs": [
        {
          "output_type": "stream",
          "text": [
            "First Citizen\n"
          ],
          "name": "stdout"
        }
      ]
    },
    {
      "cell_type": "code",
      "metadata": {
        "id": "lzUoECcoZap2",
        "colab_type": "code",
        "colab": {}
      },
      "source": [
        "seq_length = 100  # length of sequence for a training example\n",
        "examples_per_epoch = len(text)//(seq_length+1)\n",
        "\n",
        "# Create training examples / targets\n",
        "char_dataset = tf.data.Dataset.from_tensor_slices(text_as_int)"
      ],
      "execution_count": 7,
      "outputs": []
    },
    {
      "cell_type": "code",
      "metadata": {
        "id": "Z4zWgHJOZdUN",
        "colab_type": "code",
        "colab": {}
      },
      "source": [
        "sequences = char_dataset.batch(seq_length+1, drop_remainder=True)"
      ],
      "execution_count": 8,
      "outputs": []
    },
    {
      "cell_type": "code",
      "metadata": {
        "id": "ev3o-RyhaF-t",
        "colab_type": "code",
        "colab": {}
      },
      "source": [
        "def split_input_target(chunk):  # for the example: hello\n",
        "    input_text = chunk[:-1]  # hell\n",
        "    target_text = chunk[1:]  # ello\n",
        "    return input_text, target_text  # hell, ello\n",
        "\n",
        "dataset = sequences.map(split_input_target)  # we use map to apply the above function to every entry"
      ],
      "execution_count": 9,
      "outputs": []
    },
    {
      "cell_type": "code",
      "metadata": {
        "id": "CgM3CLwCaPmv",
        "colab_type": "code",
        "colab": {
          "base_uri": "https://localhost:8080/",
          "height": 765
        },
        "outputId": "37aa8790-9f9c-44a4-f5bc-5e527765bdf4"
      },
      "source": [
        "for x, y in dataset.take(2):\n",
        "  print(\"\\n\\nEXAMPLE\\n\")\n",
        "  print(\"INPUT\")\n",
        "  print(int_to_text(x))\n",
        "  print(\"\\nOUTPUT\")\n",
        "  print(int_to_text(y))"
      ],
      "execution_count": 10,
      "outputs": [
        {
          "output_type": "stream",
          "text": [
            "\n",
            "\n",
            "EXAMPLE\n",
            "\n",
            "INPUT\n",
            "First Citizen:\n",
            "Before we proceed any further, hear me speak.\n",
            "\n",
            "All:\n",
            "Speak, speak.\n",
            "\n",
            "First Citizen:\n",
            "You\n",
            "\n",
            "OUTPUT\n",
            "irst Citizen:\n",
            "Before we proceed any further, hear me speak.\n",
            "\n",
            "All:\n",
            "Speak, speak.\n",
            "\n",
            "First Citizen:\n",
            "You \n",
            "\n",
            "\n",
            "EXAMPLE\n",
            "\n",
            "INPUT\n",
            "are all resolved rather to die than to famish?\n",
            "\n",
            "All:\n",
            "Resolved. resolved.\n",
            "\n",
            "First Citizen:\n",
            "First, you \n",
            "\n",
            "OUTPUT\n",
            "re all resolved rather to die than to famish?\n",
            "\n",
            "All:\n",
            "Resolved. resolved.\n",
            "\n",
            "First Citizen:\n",
            "First, you k\n"
          ],
          "name": "stdout"
        }
      ]
    },
    {
      "cell_type": "code",
      "metadata": {
        "id": "ZrLX1X2Aa1ED",
        "colab_type": "code",
        "colab": {}
      },
      "source": [
        "BATCH_SIZE = 64\n",
        "VOCAB_SIZE = len(vocab)  # vocab is number of unique characters\n",
        "EMBEDDING_DIM = 256\n",
        "RNN_UNITS = 1024\n",
        "\n",
        "# Buffer size to shuffle the dataset\n",
        "# (TF data is designed to work with possibly infinite sequences,\n",
        "# so it doesn't attempt to shuffle the entire sequence in memory. Instead,\n",
        "# it maintains a buffer in which it shuffles elements).\n",
        "BUFFER_SIZE = 10000\n",
        "\n",
        "data = dataset.shuffle(BUFFER_SIZE).batch(BATCH_SIZE, drop_remainder=True)"
      ],
      "execution_count": 11,
      "outputs": []
    },
    {
      "cell_type": "code",
      "metadata": {
        "id": "Svp8LrlxbJ1w",
        "colab_type": "code",
        "colab": {
          "base_uri": "https://localhost:8080/",
          "height": 255
        },
        "outputId": "15d06a0a-17d9-41b9-924c-7c759bfd05c6"
      },
      "source": [
        "def build_model(vocab_size, embedding_dim, rnn_units, batch_size):\n",
        "  model = tf.keras.Sequential([\n",
        "    tf.keras.layers.Embedding(vocab_size, embedding_dim,\n",
        "                              batch_input_shape=[batch_size, None]),\n",
        "    tf.keras.layers.LSTM(rnn_units,\n",
        "                        return_sequences=True,\n",
        "                        stateful=True,\n",
        "                        recurrent_initializer='glorot_uniform'),\n",
        "    tf.keras.layers.Dense(vocab_size)\n",
        "  ])\n",
        "  return model\n",
        "\n",
        "model = build_model(VOCAB_SIZE,EMBEDDING_DIM, RNN_UNITS, BATCH_SIZE)\n",
        "model.summary()"
      ],
      "execution_count": 12,
      "outputs": [
        {
          "output_type": "stream",
          "text": [
            "Model: \"sequential\"\n",
            "_________________________________________________________________\n",
            "Layer (type)                 Output Shape              Param #   \n",
            "=================================================================\n",
            "embedding (Embedding)        (64, None, 256)           16640     \n",
            "_________________________________________________________________\n",
            "lstm (LSTM)                  (64, None, 1024)          5246976   \n",
            "_________________________________________________________________\n",
            "dense (Dense)                (64, None, 65)            66625     \n",
            "=================================================================\n",
            "Total params: 5,330,241\n",
            "Trainable params: 5,330,241\n",
            "Non-trainable params: 0\n",
            "_________________________________________________________________\n"
          ],
          "name": "stdout"
        }
      ]
    },
    {
      "cell_type": "code",
      "metadata": {
        "id": "73ShvH8Mb4-s",
        "colab_type": "code",
        "colab": {
          "base_uri": "https://localhost:8080/",
          "height": 34
        },
        "outputId": "4a3995ea-0ec2-45b3-af13-8a268947673f"
      },
      "source": [
        "for input_example_batch, target_example_batch in data.take(1):\n",
        "  example_batch_predictions = model(input_example_batch)  # ask our model for a prediction on our first batch of training data (64 entries)\n",
        "  print(example_batch_predictions.shape, \"# (batch_size, sequence_length, vocab_size)\")  # print out the output shape"
      ],
      "execution_count": 13,
      "outputs": [
        {
          "output_type": "stream",
          "text": [
            "(64, 100, 65) # (batch_size, sequence_length, vocab_size)\n"
          ],
          "name": "stdout"
        }
      ]
    },
    {
      "cell_type": "code",
      "metadata": {
        "id": "siEhuxTifBEr",
        "colab_type": "code",
        "colab": {
          "base_uri": "https://localhost:8080/",
          "height": 272
        },
        "outputId": "e2af496d-8ee2-4144-8e4c-de6b1f301c76"
      },
      "source": [
        "# lets examine one prediction\n",
        "pred = example_batch_predictions[0]\n",
        "print(len(pred))\n",
        "print(pred)\n",
        "# notice this is a 2d array of length 100, where each interior array is the prediction for the next character at each time step"
      ],
      "execution_count": 14,
      "outputs": [
        {
          "output_type": "stream",
          "text": [
            "100\n",
            "tf.Tensor(\n",
            "[[-0.00126435 -0.00246562  0.00613835 ... -0.00130221  0.00310901\n",
            "  -0.00611183]\n",
            " [ 0.00343964  0.00111127  0.00154763 ...  0.00136155  0.00059431\n",
            "  -0.00309728]\n",
            " [ 0.0023258   0.00353537 -0.00394323 ...  0.00164968  0.00136141\n",
            "  -0.00024369]\n",
            " ...\n",
            " [ 0.00588775  0.00304331  0.01098906 ... -0.00301385 -0.00045937\n",
            "   0.00308184]\n",
            " [ 0.00678268 -0.00260056  0.0067612  ... -0.00393005 -0.00618262\n",
            "   0.00327342]\n",
            " [ 0.00766157 -0.00128457  0.00424271 ...  0.00297033 -0.00718161\n",
            "   0.00317423]], shape=(100, 65), dtype=float32)\n"
          ],
          "name": "stdout"
        }
      ]
    },
    {
      "cell_type": "code",
      "metadata": {
        "id": "abctqJgPfIHg",
        "colab_type": "code",
        "colab": {
          "base_uri": "https://localhost:8080/",
          "height": 340
        },
        "outputId": "cfe37290-fdfd-4637-c725-2f148a8247bf"
      },
      "source": [
        "# and finally well look at a prediction at the first timestep\n",
        "time_pred = pred[0]\n",
        "print(len(time_pred))\n",
        "print(time_pred)\n",
        "# and of course its 65 values representing the probabillity of each character occuring next"
      ],
      "execution_count": 15,
      "outputs": [
        {
          "output_type": "stream",
          "text": [
            "65\n",
            "tf.Tensor(\n",
            "[-1.26434735e-03 -2.46562157e-03  6.13834755e-03  4.13949648e-03\n",
            " -1.90720311e-03 -1.78153999e-03  3.66736250e-03 -2.30215909e-03\n",
            "  1.23395654e-03  1.82087393e-03  3.01828608e-03 -3.77662620e-03\n",
            " -3.49510764e-03 -9.16348072e-04  3.52856726e-03  4.20967070e-03\n",
            "  2.36731675e-03  5.44145424e-03  3.89296398e-03  3.37738474e-03\n",
            " -1.59334834e-03 -4.92470060e-03 -4.64800559e-03  1.57124805e-03\n",
            "  1.68159138e-04 -2.92480364e-03 -1.65830285e-03 -7.97080458e-04\n",
            "  4.27805819e-03 -6.60633855e-03  8.69399111e-04  3.59436846e-04\n",
            "  5.46055241e-03 -2.56839627e-03  4.92730644e-03  4.08709189e-03\n",
            " -1.51492772e-04  3.81002389e-03  3.10964626e-03 -4.45011538e-03\n",
            " -1.19009055e-05  1.16514438e-03 -1.78032659e-03  7.57408736e-04\n",
            "  5.87908900e-04  9.06243338e-04  4.34236880e-03 -5.17859263e-03\n",
            " -1.56722439e-03  1.88105996e-03 -4.01081517e-03 -2.60750158e-03\n",
            "  3.42227286e-04  1.75353431e-03 -5.14705293e-03  2.24927091e-03\n",
            "  3.64357792e-03  5.57088992e-04  3.02810152e-03  3.44072212e-03\n",
            " -2.00770725e-03  1.47837587e-03 -1.30221318e-03  3.10901226e-03\n",
            " -6.11182628e-03], shape=(65,), dtype=float32)\n"
          ],
          "name": "stdout"
        }
      ]
    },
    {
      "cell_type": "code",
      "metadata": {
        "id": "CvnXVnSofUxz",
        "colab_type": "code",
        "colab": {
          "base_uri": "https://localhost:8080/",
          "height": 35
        },
        "outputId": "51660201-0c11-491e-cfe7-74151e752974"
      },
      "source": [
        "# If we want to determine the predicted character we need to sample the output distribution (pick a value based on probabillity)\n",
        "sampled_indices = tf.random.categorical(pred, num_samples=1)\n",
        "\n",
        "# now we can reshape that array and convert all the integers to numbers to see the actual characters\n",
        "sampled_indices = np.reshape(sampled_indices, (1, -1))[0]\n",
        "predicted_chars = int_to_text(sampled_indices)\n",
        "\n",
        "predicted_chars  # and this is what the model predicted for training sequence 1"
      ],
      "execution_count": 16,
      "outputs": [
        {
          "output_type": "execute_result",
          "data": {
            "application/vnd.google.colaboratory.intrinsic+json": {
              "type": "string"
            },
            "text/plain": [
              "\"Fz&VMDRW.y;BIwKWDUhJabqbKOztY?R!oE&oD.PzR'?F'AjEv:bFw&ROYUYyq3uAJMB3K-G:ipOR \\nrTin.:pMhlULHGy;I i!$3\""
            ]
          },
          "metadata": {
            "tags": []
          },
          "execution_count": 16
        }
      ]
    },
    {
      "cell_type": "code",
      "metadata": {
        "id": "a7DaCNacff9U",
        "colab_type": "code",
        "colab": {
          "base_uri": "https://localhost:8080/",
          "height": 35
        },
        "outputId": "b3a0f609-5eef-412c-8760-98b01fd88617"
      },
      "source": [
        "# If we want to determine the predicted character we need to sample the output distribution (pick a value based on probabillity)\n",
        "sampled_indices = tf.random.categorical(pred, num_samples=1)\n",
        "\n",
        "# now we can reshape that array and convert all the integers to numbers to see the actual characters\n",
        "sampled_indices = np.reshape(sampled_indices, (1, -1))[0]\n",
        "predicted_chars = int_to_text(sampled_indices)\n",
        "\n",
        "predicted_chars  # and this is what the model predicted for training sequence 1"
      ],
      "execution_count": 17,
      "outputs": [
        {
          "output_type": "execute_result",
          "data": {
            "application/vnd.google.colaboratory.intrinsic+json": {
              "type": "string"
            },
            "text/plain": [
              "'yx.yikJS\\nupfVAlwtbi&TXpLu.q33mD\\nMzucebkwGRmjX WM!uQHpPwKmeqQxWRnEEpdCUlZQy  imZAakypZumYvBWnITt ,f&$'"
            ]
          },
          "metadata": {
            "tags": []
          },
          "execution_count": 17
        }
      ]
    },
    {
      "cell_type": "code",
      "metadata": {
        "id": "fSh5E9p0fjCv",
        "colab_type": "code",
        "colab": {}
      },
      "source": [
        "def loss(labels, logits):\n",
        "  return tf.keras.losses.sparse_categorical_crossentropy(labels, logits, from_logits=True)"
      ],
      "execution_count": 18,
      "outputs": []
    },
    {
      "cell_type": "code",
      "metadata": {
        "id": "v1Pv3q3zflbt",
        "colab_type": "code",
        "colab": {}
      },
      "source": [
        "model.compile(optimizer='adam', loss=loss)"
      ],
      "execution_count": 19,
      "outputs": []
    },
    {
      "cell_type": "code",
      "metadata": {
        "id": "6YuJE0irf7mH",
        "colab_type": "code",
        "colab": {
          "base_uri": "https://localhost:8080/",
          "height": 1000
        },
        "outputId": "78f609e3-94e0-401a-d437-effbbfe44021"
      },
      "source": [
        "history = model.fit(data, epochs=50, callbacks=[checkpoint_callback])"
      ],
      "execution_count": 21,
      "outputs": [
        {
          "output_type": "stream",
          "text": [
            "Epoch 1/50\n",
            "172/172 [==============================] - 11s 64ms/step - loss: 2.6158\n",
            "Epoch 2/50\n",
            "172/172 [==============================] - 11s 64ms/step - loss: 1.9120\n",
            "Epoch 3/50\n",
            "172/172 [==============================] - 11s 65ms/step - loss: 1.6548\n",
            "Epoch 4/50\n",
            "172/172 [==============================] - 11s 66ms/step - loss: 1.5147\n",
            "Epoch 5/50\n",
            "172/172 [==============================] - 11s 67ms/step - loss: 1.4320\n",
            "Epoch 6/50\n",
            "172/172 [==============================] - 12s 67ms/step - loss: 1.3742\n",
            "Epoch 7/50\n",
            "172/172 [==============================] - 12s 68ms/step - loss: 1.3283\n",
            "Epoch 8/50\n",
            "172/172 [==============================] - 12s 68ms/step - loss: 1.2882\n",
            "Epoch 9/50\n",
            "172/172 [==============================] - 12s 69ms/step - loss: 1.2528\n",
            "Epoch 10/50\n",
            "172/172 [==============================] - 12s 69ms/step - loss: 1.2186\n",
            "Epoch 11/50\n",
            "172/172 [==============================] - 12s 70ms/step - loss: 1.1824\n",
            "Epoch 12/50\n",
            "172/172 [==============================] - 12s 70ms/step - loss: 1.1468\n",
            "Epoch 13/50\n",
            "172/172 [==============================] - 12s 71ms/step - loss: 1.1100\n",
            "Epoch 14/50\n",
            "172/172 [==============================] - 12s 71ms/step - loss: 1.0706\n",
            "Epoch 15/50\n",
            "172/172 [==============================] - 12s 71ms/step - loss: 1.0316\n",
            "Epoch 16/50\n",
            "172/172 [==============================] - 12s 71ms/step - loss: 0.9892\n",
            "Epoch 17/50\n",
            "172/172 [==============================] - 12s 72ms/step - loss: 0.9491\n",
            "Epoch 18/50\n",
            "172/172 [==============================] - 12s 72ms/step - loss: 0.9073\n",
            "Epoch 19/50\n",
            "172/172 [==============================] - 12s 72ms/step - loss: 0.8670\n",
            "Epoch 20/50\n",
            "172/172 [==============================] - 13s 74ms/step - loss: 0.8288\n",
            "Epoch 21/50\n",
            "172/172 [==============================] - 13s 77ms/step - loss: 0.7914\n",
            "Epoch 22/50\n",
            "172/172 [==============================] - 14s 79ms/step - loss: 0.7569\n",
            "Epoch 23/50\n",
            "172/172 [==============================] - 13s 76ms/step - loss: 0.7234\n",
            "Epoch 24/50\n",
            "172/172 [==============================] - 13s 74ms/step - loss: 0.6946\n",
            "Epoch 25/50\n",
            "172/172 [==============================] - 13s 74ms/step - loss: 0.6687\n",
            "Epoch 26/50\n",
            "172/172 [==============================] - 13s 74ms/step - loss: 0.6436\n",
            "Epoch 27/50\n",
            "172/172 [==============================] - 13s 75ms/step - loss: 0.6203\n",
            "Epoch 28/50\n",
            "172/172 [==============================] - 13s 75ms/step - loss: 0.6008\n",
            "Epoch 29/50\n",
            "172/172 [==============================] - 13s 75ms/step - loss: 0.5820\n",
            "Epoch 30/50\n",
            "172/172 [==============================] - 13s 75ms/step - loss: 0.5661\n",
            "Epoch 31/50\n",
            "172/172 [==============================] - 13s 75ms/step - loss: 0.5498\n",
            "Epoch 32/50\n",
            "172/172 [==============================] - 13s 74ms/step - loss: 0.5361\n",
            "Epoch 33/50\n",
            "172/172 [==============================] - 13s 74ms/step - loss: 0.5263\n",
            "Epoch 34/50\n",
            "172/172 [==============================] - 13s 74ms/step - loss: 0.5139\n",
            "Epoch 35/50\n",
            "172/172 [==============================] - 13s 74ms/step - loss: 0.5056\n",
            "Epoch 36/50\n",
            "172/172 [==============================] - 13s 74ms/step - loss: 0.4938\n",
            "Epoch 37/50\n",
            "172/172 [==============================] - 13s 74ms/step - loss: 0.4864\n",
            "Epoch 38/50\n",
            "172/172 [==============================] - 13s 74ms/step - loss: 0.4795\n",
            "Epoch 39/50\n",
            "172/172 [==============================] - 13s 74ms/step - loss: 0.4728\n",
            "Epoch 40/50\n",
            "172/172 [==============================] - 13s 74ms/step - loss: 0.4659\n",
            "Epoch 41/50\n",
            "172/172 [==============================] - 13s 74ms/step - loss: 0.4602\n",
            "Epoch 42/50\n",
            "172/172 [==============================] - 13s 74ms/step - loss: 0.4553\n",
            "Epoch 43/50\n",
            "172/172 [==============================] - 13s 74ms/step - loss: 0.4522\n",
            "Epoch 44/50\n",
            "172/172 [==============================] - 13s 74ms/step - loss: 0.4475\n",
            "Epoch 45/50\n",
            "172/172 [==============================] - 13s 74ms/step - loss: 0.4437\n",
            "Epoch 46/50\n",
            "172/172 [==============================] - 13s 73ms/step - loss: 0.4382\n",
            "Epoch 47/50\n",
            "172/172 [==============================] - 13s 73ms/step - loss: 0.4365\n",
            "Epoch 48/50\n",
            "172/172 [==============================] - 13s 73ms/step - loss: 0.4300\n",
            "Epoch 49/50\n",
            "172/172 [==============================] - 13s 73ms/step - loss: 0.4273\n",
            "Epoch 50/50\n",
            "172/172 [==============================] - 13s 73ms/step - loss: 0.4256\n"
          ],
          "name": "stdout"
        }
      ]
    },
    {
      "cell_type": "code",
      "metadata": {
        "id": "c4s64-8lhkg9",
        "colab_type": "code",
        "colab": {}
      },
      "source": [
        "model = build_model(VOCAB_SIZE, EMBEDDING_DIM, RNN_UNITS, batch_size=1)"
      ],
      "execution_count": 22,
      "outputs": []
    },
    {
      "cell_type": "code",
      "metadata": {
        "id": "OLLAw-WWW03u",
        "colab_type": "code",
        "colab": {}
      },
      "source": [
        "model.load_weights(tf.train.latest_checkpoint(checkpoint_dir))\n",
        "model.build(tf.TensorShape([1, None]))"
      ],
      "execution_count": 23,
      "outputs": []
    },
    {
      "cell_type": "code",
      "metadata": {
        "id": "iFqWGBbQXqId",
        "colab_type": "code",
        "colab": {}
      },
      "source": [
        "def generate_text(model, start_string):\n",
        "  # Evaluation step (generating text using the learned model)\n",
        "\n",
        "  # Number of characters to generate\n",
        "  num_generate = 800\n",
        "\n",
        "  # Converting our start string to numbers (vectorizing)\n",
        "  input_eval = [char2idx[s] for s in start_string]\n",
        "  input_eval = tf.expand_dims(input_eval, 0)\n",
        "\n",
        "  # Empty string to store our results\n",
        "  text_generated = []\n",
        "\n",
        "  # Low temperatures results in more predictable text.\n",
        "  # Higher temperatures results in more surprising text.\n",
        "  # Experiment to find the best setting.\n",
        "  temperature = 1.0\n",
        "\n",
        "  # Here batch size == 1\n",
        "  model.reset_states()\n",
        "  for i in range(num_generate):\n",
        "      predictions = model(input_eval)\n",
        "      # remove the batch dimension\n",
        "    \n",
        "      predictions = tf.squeeze(predictions, 0)\n",
        "\n",
        "      # using a categorical distribution to predict the character returned by the model\n",
        "      predictions = predictions / temperature\n",
        "      predicted_id = tf.random.categorical(predictions, num_samples=1)[-1,0].numpy()\n",
        "\n",
        "      # We pass the predicted character as the next input to the model\n",
        "      # along with the previous hidden state\n",
        "      input_eval = tf.expand_dims([predicted_id], 0)\n",
        "\n",
        "      text_generated.append(idx2char[predicted_id])\n",
        "\n",
        "  return (start_string + ''.join(text_generated))"
      ],
      "execution_count": 25,
      "outputs": []
    },
    {
      "cell_type": "code",
      "metadata": {
        "id": "46YMFW5wXtmx",
        "colab_type": "code",
        "colab": {
          "base_uri": "https://localhost:8080/",
          "height": 442
        },
        "outputId": "35473673-aedd-4dd1-cd8e-aef9ec5025ce"
      },
      "source": [
        "inp = input(\"Type a starting string: \")\n",
        "print(generate_text(model, inp))"
      ],
      "execution_count": 26,
      "outputs": [
        {
          "output_type": "stream",
          "text": [
            "Type a starting string: romeo\n",
            "romeous lips in the morning: make thee\n",
            "Deep have a think of both. The king is the beast.\n",
            "\n",
            "CLARENCE:\n",
            "Erron is cold entraily friendon from him: let him all pluck him years:\n",
            "For you and here have strictue for his shame,\n",
            "As vain. O player the queen;\n",
            "Your king my blood with tears, I can afflict me\n",
            "To assure me from thy mother's heavy weps!\n",
            "Thy thy beave loath too much before\n",
            "A vessage had,\n",
            "That tigers smollow of his country's good\n",
            "As that the lutely shall star nature sit and wail;\n",
            "And let him shall be here made to your flesh and blood, s\n",
            "Yet that Prospero for the next womb,\n",
            "Then were her louding heart to thank\n",
            "The silly want yourself we are but Clarence.\n",
            "\n",
            "QUEEN ELIZABETH:\n",
            "I have no more; what he's most love say:\n",
            "You must to London on a subject's love,\n",
            "Tendering the precipt cloupportions.\n",
            "\n",
            "GLOUCESTER\n"
          ],
          "name": "stdout"
        }
      ]
    }
  ]
}